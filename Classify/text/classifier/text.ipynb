{
 "cells": [
  {
   "cell_type": "code",
   "execution_count": 13,
   "metadata": {},
   "outputs": [],
   "source": [
    "import pandas as pd\n",
    "import json\n",
    "from transformers import pipeline\n",
    "from collections import Counter"
   ]
  },
  {
   "cell_type": "code",
   "execution_count": 14,
   "metadata": {},
   "outputs": [],
   "source": [
    "df =pd.read_json(\"data.json\")\n",
    "df = df[~df['content'].str.contains(\"Không tìm thấy nội dung\", na=False)]\n",
    "content = df[\"content\"]\n"
   ]
  },
  {
   "cell_type": "code",
   "execution_count": 15,
   "metadata": {},
   "outputs": [
    {
     "name": "stderr",
     "output_type": "stream",
     "text": [
      "Device set to use cpu\n"
     ]
    }
   ],
   "source": [
    "from transformers import pipeline\n",
    "classifier =pipeline('zero-shot-classification', model=\"facebook/bart-large-mnli\")\n"
   ]
  },
  {
   "cell_type": "code",
   "execution_count": 16,
   "metadata": {},
   "outputs": [
    {
     "name": "stdout",
     "output_type": "stream",
     "text": [
      "{'index': 0, 'text': 'Dodge demon 😈 srt ❤️🔥\\n———————\\nCheck out\\n@gasmonkeygarage', 'label': 'trend', 'score': 0.22322995960712433}\n",
      "{'index': 1, 'text': 'Hye Jaipur', 'label': 'trend', 'score': 0.20810306072235107}\n",
      "{'index': 2, 'text': 'Female pudu, Flor, is all about #tongueoutTuesday', 'label': 'trend', 'score': 0.6534664034843445}\n",
      "{'index': 3, 'text': 'Bungie accidentally released The Sunless Cell Grandmaster Nightfall strike. 💀😭', 'label': 'gaming', 'score': 0.5775581002235413}\n",
      "{'index': 4, 'text': 'Powerhouse Batting Line-up, Brilliant All-Rounders and Quality pacers 🔥⚡', 'label': 'trend', 'score': 0.33751845359802246}\n",
      "{'index': 5, 'text': 'bmw', 'label': 'business', 'score': 0.21073593199253082}\n",
      "{'index': 6, 'text': 'Muhallabia\\n.\\n.\\n.\\n.\\n#muhallabia #kunafa #desserts #dessert🍰 #instagram #food#foodphotography #foodpics #foodies #uaefoodphotographer#foodstylist #foodgasm #sabnaashraf #sabnaashrafphotography #nikon#nikonfoodphotographer', 'label': 'food', 'score': 0.40078482031822205}\n",
      "{'index': 7, 'text': '- الله يجعَل عيديّاتنا إسّتجابة دعوُات رمَضان🤍😭.  \\nTranslate', 'label': 'trend', 'score': 0.14696989953517914}\n",
      "{'index': 8, 'text': 'Waking up on my 40th birthday in LA to a letter in the mail from the Prime Minister’s office of Canada… couldn’t have been better timed \\n👀🇨🇦💌📩📫', 'label': 'trend', 'score': 0.16765828430652618}\n",
      "{'index': 9, 'text': '#neilyoung #brokenarrowranch #henrydiltz', 'label': 'trend', 'score': 0.6609334349632263}\n",
      "{'index': 10, 'text': 'Here’s the statistical comparison between Suresh Raina and Ruturaj Gaikwad in IPL 💛🌟', 'label': 'sports', 'score': 0.7973881363868713}\n",
      "{'index': 11, 'text': 'Que se note quien manda aquí …  \\nTranslate', 'label': 'trend', 'score': 0.21919246017932892}\n",
      "{'index': 12, 'text': 'Is it just me or did Donald’s pants climb a good foot?', 'label': 'trend', 'score': 0.17130747437477112}\n",
      "{'index': 13, 'text': 'Ramadan Coffee 🌙❤️❤️.', 'label': 'food', 'score': 0.525962233543396}\n",
      "{'index': 14, 'text': 'Dinner 💚', 'label': 'food', 'score': 0.8155856132507324}\n",
      "{'index': 15, 'text': '🇺🇸 | Tras 9 meses en el espacio, la cápsula de SpaceX ameriza y es recibida por delfines en el Golfo de América: un cierre épico para la misión de Wilmore y Williams.  \\nTranslate', 'label': 'technology', 'score': 0.170266255736351}\n",
      "{'index': 16, 'text': 'For most people, 9-5’s are a wealth building tool', 'label': 'trend', 'score': 0.3478955626487732}\n",
      "{'index': 17, 'text': 'My Top 5 Favorite Super Investors', 'label': 'trend', 'score': 0.2799723446369171}\n",
      "{'index': 18, 'text': '\"who got you smiling at your phone?\" me i\\'m posting stupid shit', 'label': 'technology', 'score': 0.2435607612133026}\n",
      "{'index': 19, 'text': \"Happy Tuesday my loves!\\nIt's mum's birthday today and it's a big one.🤭\", 'label': 'trend', 'score': 0.12519855797290802}\n",
      "{'index': 20, 'text': 'TWICE MINA 🧢🧢🧢', 'label': 'trend', 'score': 0.18177123367786407}\n",
      "{'index': 21, 'text': 'ゆずりは\\n居酒屋食事会', 'label': 'food', 'score': 0.44915664196014404}\n",
      "{'index': 22, 'text': 'Got a wild one for you tonight, threads!', 'label': 'entertainment', 'score': 0.3921702206134796}\n",
      "{'index': 23, 'text': '25🙏🏼', 'label': 'trend', 'score': 0.22326120734214783}\n",
      "{'index': 24, 'text': 'Korea !!!!!!!! 😍', 'label': 'trend', 'score': 0.23384277522563934}\n",
      "{'index': 25, 'text': '🥰🥰🥰\\n.\\n.\\n.\\n.\\n.\\n.', 'label': 'trend', 'score': 0.16377750039100647}\n",
      "{'index': 26, 'text': 'Chase nothing but a better life, peace of mind and connection with God.', 'label': 'travel', 'score': 0.19765011966228485}\n",
      "{'index': 27, 'text': '10/10000000💜💜💜\\nالخبر  \\nTranslate', 'label': 'trend', 'score': 0.18322335183620453}\n",
      "{'index': 28, 'text': 'Was listening to some of the first Eras Tour surprise songs and I’ll forever be jealous of those who got to listen to cowboy like me with Marcus Mumford at Vegas N2, I love that song so much and the way Taylor and Marcus sang it that night made the song even more perfect😭😭\\U0001f979', 'label': 'entertainment', 'score': 0.3224010467529297}\n",
      "{'index': 29, 'text': 'Chicken Caesar Pizza Sandwich🙌 who’s hungry?', 'label': 'food', 'score': 0.8363250494003296}\n",
      "{'index': 30, 'text': 'Merry Jensen Huang GTC keynote day to all that celebrate', 'label': 'trend', 'score': 0.1985306590795517}\n",
      "{'index': 31, 'text': 'फैमिली फोटो भैया और बहन दादाजी🥰🥰  \\nTranslate', 'label': 'trend', 'score': 0.10134577006101608}\n",
      "{'index': 32, 'text': 'Japan – Canton / Visions Of China (Live) (detail) 12\" vinyl single, CBS pressing (UK) 1983', 'label': 'technology', 'score': 0.17270426452159882}\n",
      "{'index': 33, 'text': 'we blinked 🥺\\nTaylor Swift', 'label': 'entertainment', 'score': 0.36720845103263855}\n",
      "{'index': 34, 'text': 'Aku perasan few days ni threads pasal \"malu\". Kalau buat dosa, mengumpat orang memang lah pasal malu. Selagi benda tu harus, x haram x berdosa proceed je lah. Manusia minta kau malu dgn manusia, tapi diorg lupa yg diorg patut malu dgn tuhan.', 'label': 'trend', 'score': 0.11368846148252487}\n",
      "{'index': 35, 'text': 'ケンタッキーフライドチキン\\n夜ご  \\nTranslate', 'label': 'trend', 'score': 0.08858510851860046}\n",
      "{'index': 36, 'text': 'Biggest drop in U.S. equity allocation on record', 'label': 'trend', 'score': 0.3982223868370056}\n",
      "{'index': 37, 'text': 'Thank you, BG! Eagles legend forever.', 'label': 'sports', 'score': 0.3417285680770874}\n",
      "{'index': 38, 'text': '#enzoferrari is an #hypercar from #ferrari powered by a #v12 with 660 hp. #rossocorsa\\n\\uf000museiferrari', 'label': 'technology', 'score': 0.49741870164871216}\n",
      "{'index': 39, 'text': 'bro was just born', 'label': 'trend', 'score': 0.13432133197784424}\n",
      "{'index': 40, 'text': 'Don finishing a Panasonic Reel to Reel. Now it’s sounding great!', 'label': 'technology', 'score': 0.5417618155479431}\n",
      "{'index': 41, 'text': '¡No cabe duda que #LaMúsicaTeHaceVolar! El fin de semana pasado fue increíble, lleno de música y emociones con artistas muy queridos. Cerré con broche de oro en el\\n@vivelatino\\n25 con el gran show que hizo posible\\n@aeromexico\\n#MúsicaPaMandarAVolar con la participación de\\n\\uf000oficialyuri\\n,\\n@napoleonmusica\\n,\\n@belindapop\\n,\\n@danielaromoweb\\n,\\n@lajosa\\n, Leonardo de Lozanne y\\n\\uf000saulhernandezeoficial\\n. ¿Estuviste por ahí?  \\nTranslate', 'label': 'trend', 'score': 0.1539812684059143}\n",
      "{'index': 42, 'text': 'I think the Tag and Tommy liveries are my favorite this year. Which one is your favorite?\\nF1Academy', 'label': 'trend', 'score': 0.2970196008682251}\n",
      "{'index': 43, 'text': '¡Familia de Diez llega a su fin! 💔😭\\nDespués de 17 años y 13 temporadas, parece que la famosa serie de enredos familiares estaría llegando a su fin. Mariana Botas (que hace que Martina en la serie) aseguró que el último episodio del programa ya está grabado 😱', 'label': 'entertainment', 'score': 0.19056515395641327}\n",
      "{'index': 44, 'text': '🐶💭', 'label': 'trend', 'score': 0.19877111911773682}\n",
      "{'index': 45, 'text': 'No let-up in the launch cadence!', 'label': 'trend', 'score': 0.7540855407714844}\n",
      "{'index': 46, 'text': \"Canva: Congratulations you've created 1,000 designs!\", 'label': 'technology', 'score': 0.4054092466831207}\n",
      "{'index': 47, 'text': 'Prayers up for Tracy Morgan 🙏🏾\\nThrew up courtside watching the Knicks and Heat play and then was taken off in a wheel chair.\\n📹\\n@realjoshbrownie', 'label': 'sports', 'score': 0.29775214195251465}\n",
      "{'index': 48, 'text': 'downloaded Pokémon go after a while…tell me WHY my ex is still sending me gifts 🤡', 'label': 'gaming', 'score': 0.2788015902042389}\n",
      "{'index': 49, 'text': 'Hailee Steinfeld is serving ICONIC volume with the #GetHyWithNEXXUS campaign! ✨ Elevate your hair game with the new Hy-Volume collection—big, bouncy, and full of life! Who else is obsessed? 💫', 'label': 'trend', 'score': 0.648202657699585}\n",
      "{'index': 50, 'text': 'Dividend investing is cool because you could be earning $10,000/month in dividend income and very few people would know', 'label': 'trend', 'score': 0.25420206785202026}\n",
      "{'index': 51, 'text': '[NEW VIDEO] How the world’s most radioactive room helps make nuclear fuel safer youtu.be/QPE_J…\\n@idaho_national_lab', 'label': 'science', 'score': 0.19410556554794312}\n",
      "{'index': 52, 'text': \"Fifty-three years ago this week (1972) the Darrin and Samantha Stephens family appeared on the cover of Joliet, IL's Herald News: TV Time magazine.\", 'label': 'relationships', 'score': 0.1142425537109375}\n",
      "{'index': 53, 'text': 'if i see any spoilers for sunrise on the reaping i swear to god i’ll start swinging 😭', 'label': 'trend', 'score': 0.134808748960495}\n",
      "{'index': 54, 'text': \"L’ AP-HP\\n\\uf000hopitauxdeparis\\na choisi le projet du groupement GIBOIRE & GALIA pour la requalification de l'ancien hôpital de la Rochefoucauld (Paris14) aphp.fr/conte…  \\nTranslate\", 'label': 'health', 'score': 0.29156145453453064}\n",
      "{'index': 55, 'text': 'Porsche GT3RS', 'label': 'technology', 'score': 0.5892090201377869}\n"
     ]
    }
   ],
   "source": [
    "\n",
    "\n",
    "labels = [\n",
    "    \"trend\", \"technology\", \"Entertainment\", \"Lifestyle\", \"Education\", \"Finance\",  \"Career\", \"Travel\", \"Food\", \"Sports\", \"Science\", \"Gaming\", \"Memes\", \n",
    "     \"Politics\", \"Health\", \"Relationships\", \"Business\", \"Books\", \"Environment\", \n",
    "    \"automation\"]\n",
    "result = []\n",
    "for idx, text in enumerate(content):\n",
    "    classification = classifier(text, labels)\n",
    "\n",
    "\n",
    "    best_index = classification[\"scores\"].index(max(classification[\"scores\"]))\n",
    "    best_label = classification[\"labels\"][best_index].lower() \n",
    "    best_score = classification[\"scores\"][best_index]\n",
    "\n",
    "    item = {\n",
    "        \"index\": idx,\n",
    "        \"text\": text,\n",
    "        \"label\": best_label,\n",
    "        \"score\": best_score\n",
    "    }\n",
    "    \n",
    "    result.append(item)\n",
    "    print(item)\n",
    "\n",
    "\n",
    "    \n"
   ]
  },
  {
   "cell_type": "code",
   "execution_count": 17,
   "metadata": {},
   "outputs": [],
   "source": [
    "tech = {\"technology\", \"science\", \"gaming\", \"robotics\", \"automation\"}\n",
    "trend = {\"trend\", \"environment\", \"entertainment\", \"lifestyle\",  \"sports\",\"travel\", \"food\", \"memes\", \"politics\", \"relationships\", \"books\", \"business\", \"health\", \"career\", \"finance\", \"education\"}\n"
   ]
  },
  {
   "cell_type": "code",
   "execution_count": 18,
   "metadata": {},
   "outputs": [],
   "source": [
    "trend_data = []\n",
    "tech_data = []\n",
    "\n",
    "\n",
    "for res in result:\n",
    "    row = df.iloc[res[\"index\"]].to_dict()  \n",
    "    if res[\"label\"] in tech:\n",
    "        tech_data.append(row)\n",
    "    elif res[\"label\"] in trend:\n",
    "        trend_data.append(row)"
   ]
  },
  {
   "cell_type": "code",
   "execution_count": 19,
   "metadata": {},
   "outputs": [
    {
     "name": "stdout",
     "output_type": "stream",
     "text": [
      "số lượng Topic: \n",
      " trend: 30\n",
      " gaming: 2\n",
      " business: 1\n",
      " food: 5\n",
      " sports: 3\n",
      " technology: 7\n",
      " entertainment: 4\n",
      " travel: 1\n",
      " science: 1\n",
      " relationships: 1\n",
      " health: 1\n",
      "save\n"
     ]
    }
   ],
   "source": [
    "with open(\"tech.json\", \"w\", encoding=\"utf-8\") as tech_file:\n",
    "    json.dump(tech_data, tech_file, ensure_ascii=False, indent=4)\n",
    "\n",
    "with open(\"trend.json\", \"w\", encoding=\"utf-8\") as trend_file:\n",
    "    json.dump(trend_data, trend_file, ensure_ascii=False, indent=4)\n",
    "\n",
    "topic_counts = Counter([res[\"label\"] for res in result])\n",
    "\n",
    "print(\"số lượng Topic: \")\n",
    "for topic, count in topic_counts.items():\n",
    "    print(f\" {topic}: {count}\")\n",
    "\n",
    "print(\"save\")"
   ]
  }
 ],
 "metadata": {
  "kernelspec": {
   "display_name": "new_tf_env",
   "language": "python",
   "name": "python3"
  },
  "language_info": {
   "codemirror_mode": {
    "name": "ipython",
    "version": 3
   },
   "file_extension": ".py",
   "mimetype": "text/x-python",
   "name": "python",
   "nbconvert_exporter": "python",
   "pygments_lexer": "ipython3",
   "version": "3.9.21"
  }
 },
 "nbformat": 4,
 "nbformat_minor": 2
}
